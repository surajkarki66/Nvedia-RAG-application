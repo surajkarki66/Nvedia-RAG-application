{
  "nbformat": 4,
  "nbformat_minor": 0,
  "metadata": {
    "colab": {
      "provenance": []
    },
    "kernelspec": {
      "name": "python3",
      "display_name": "Python 3"
    },
    "language_info": {
      "name": "python"
    }
  },
  "cells": [
    {
      "cell_type": "markdown",
      "source": [
        "# Embeddings\n",
        "----\n",
        "\n",
        "<br>\n",
        "\n",
        "## **1:** Embedding Models\n",
        "\n",
        "In this section, we'll review the ideas surrounding natural language processing with deep learning to define what embedding models are and how they're related to the tools we've taken for granted thus far.\n",
        "\n",
        "<br>\n",
        "\n",
        "### **Understanding Latent Embeddings**\n",
        "\n",
        "Latent embeddings represent the middle ground in deep learning networks, bridging the gap between input and output. For instance, let's consider a lightweight two-layer network designed to classify [**MNIST digits**](https://en.wikipedia.org/wiki/MNIST_database). For this, the inputs and outputs might be flattened images and one-hot probability vectors, respectively. Then, the values produced by the first layer in this setup are the latent embeddings of the image which, by optimization, converge into useful representations for the final layer to use. This makes them **semantically rich embeddings** that may not be human-interpretable but can still be leveraged for their raw vector properties.\n",
        "\n",
        "<br>\n",
        "\n",
        "### **Word Embeddings: The Building Blocks of Language Models**\n",
        "\n",
        "Word embeddings are high-dimensional vector representations of individual words, forming the backbone of deep language models. These embeddings are created through an optimization process within an end-to-end pipeline tailored for specific tasks. [**Word2vec**](https://en.wikipedia.org/wiki/Word2vec) is a prominent standalone example for those interested. In practical terms, a token from a language model's $v$-token vocabulary gets mapped from a token index to an $d$-dimensional token embedding:\n",
        "\n",
        "$$\\text{Token Index} \\in \\{0, 1, \\cdots, v-1\\} \\to \\text{Token Embedding} \\in \\mathbb{R}^{d}$$\n",
        "\n",
        "For a sequence of $n$ tokens, this mapping extends to the entire sequence:\n",
        "\n",
        "$$\\text{Token Sequence} \\in \\{0, 1, \\cdots, v-1\\}^{v} \\to \\text{Embedding Sequence} \\in \\mathbb{R}^{n\\times d}$$\n",
        "\n",
        "<br>\n",
        "\n",
        "### **Sentence/Document Embeddings: Capturing Context and Meaning**\n",
        "\n",
        "When dealing with sentences or entire documents, embeddings play a crucial role in capturing context, meanings, and interactions between elements. Practically all large language models leverage a **transformer-like architecture** to generate these sentence/document embeddings. The transformer allows the network to communicate both per-token-level and sequence-level information as it becomes useful for the optimization problem.\n",
        "\n",
        "<br>\n",
        "\n",
        "### **Decoder Models in Language Generation**\n",
        "\n",
        "Decoder models, commonly used in chatbots and other language generation tasks, start by taking a sequence of tokens as input. They embed these tokens into a latent sequence, applying unidirectional reasoning to focus on a specific part of the output sequence. From this focused, semantically dense point, the model predicts the next token in the sequence:\n",
        "\n",
        "$$$$\n",
        "$$\\text{[ Next-Token Generation ]}$$\n",
        "$$\\text{Embedding Sequence} \\in \\mathbb{R}^{n\\times d} \\to \\text{Latent Sequence} \\in \\mathbb{R}^{n\\times d}$$\n",
        "$$(\\text{Latent Sequence})[\\text{last entry}] \\in \\mathbb{R}^{d} \\to \\text{Token Prediction} \\in \\mathbb{R}^{v}$$\n",
        "$$$$\n",
        "\n",
        "This process continues, collapsing the token prediction from a vector to a realized token and building up a predicted sequence until a termination condition — such as a length limit or stop token — gets satisfied.\n",
        "\n",
        "$$$$\n",
        "$$\\text{[ Autoregressive Generation ]}$$\n",
        "$$(\\text{Original + Predicted Embedding Sequence}) \\in \\mathbb{R}^{(n+1)\\times e} \\to \\text{Token Prediction} \\in \\mathbb{R}^{v}$$\n",
        "$$\\vdots$$\n",
        "$$(\\text{Original + Predicted Embedding Sequence}) \\in \\mathbb{R}^{(n+m)\\times e} \\to \\text{Token Prediction} \\in \\mathbb{R}^{v}$$\n",
        "$$$$\n",
        "<br>\n",
        "\n",
        "### **Encoder Models For Sequence Encoding**\n",
        "\n",
        "Encoder models use a bidirectional architecture, making them suitable for different types of tasks compared to decoder models. They are particularly effective in tasks like token or sequence prediction. Letting $c$ be a number of classes or regressional values:\n",
        "\n",
        "$$$$\n",
        "$$\\text{[ Per-Token Prediction ]}$$\n",
        "$$\\text{Embedding Sequence} \\in \\mathbb{R}^{n\\times d} \\to \\text{Latent Sequence} \\in \\mathbb{R}^{n\\times d} \\to \\text{Per-Token Predictions} \\in \\mathbb{R}^{n\\times c}$$\n",
        "\n",
        "$$$$\n",
        "$$\\text{[ Full-Sequence Prediction ]}$$\n",
        "$$\\text{Embedding Sequence} \\in \\mathbb{R}^{n\\times d} \\to \\text{Latent Sequence} \\in \\mathbb{R}^{n\\times d}$$\n",
        "$$(\\text{Latent Sequence})[\\text{0th entry}] \\in \\mathbb{R}^{d} \\to \\text{Sequence Prediction} \\in \\mathbb{R}^{c}$$\n",
        "\n",
        "<br>\n",
        "\n",
        "> <img src=\"https://dli-lms.s3.amazonaws.com/assets/s-fx-15-v1/imgs/encoder-decoder.png\" width=1200px/>\n",
        "<!-- > <img src=\"https://drive.google.com/uc?export=view&id=1lhswkAgb5TlDxezg3qDNZQKbOMGFz7H5\" width=1200px/> -->\n"
      ],
      "metadata": {
        "id": "WlXmIsZfnVeG"
      }
    },
    {
      "cell_type": "markdown",
      "source": [
        "----\n",
        "\n",
        "## **2:** Using An NVIDIAEmbeddings Model\n",
        "\n",
        "For this experiment, we will use an embedding model with two pathways: shorter-form \"query\" and longer-form \"passage\" pathways. In doing so, we will see how to properly reason about its outputs and utilize it to complement our existing LLM toolset!\n",
        "\n",
        "To pull in our model, we will once again take advantage of the AI foundation model endpoints and its integration with LangChain! This part of the notebook will closely resemble the [**official NVIDIAEmbeddings documentation**](https://python.langchain.com/docs/integrations/text_embedding/nvidia_ai_endpoints).\n",
        "\n",
        "\n",
        "At the time of writing, the current recommended model for this task is the [**NVIDIA Retrieval QA Embedding model**](https://build.nvidia.com/nvidia/embed-qa-4), which is a legally-vetted fine-tuned variant of the [**E5-Large embedding model**](https://huggingface.co/intfloat/e5-large) listed under the `nvolveqa_40k` designation. This designation may have changed, so check over the available list and identify the current recommendation.\n",
        "\n",
        "<br>\n",
        "\n",
        "### **Identifying Our Model**\n",
        "\n",
        "Among your available models, you should find an embedding model suitable for discriminating between human-readable passages. After identifying the endpoint of interest, create an `NVIDIAEmbeddings` instance that will connect to it and see what methods it provides.\n"
      ],
      "metadata": {
        "id": "tiencgxYn9wN"
      }
    },
    {
      "cell_type": "code",
      "source": [
        "# Necessary for Colab, not necessary for course environment\n",
        "%pip install -qq langchain langchain-nvidia-ai-endpoints gradio\n",
        "%pip install -qq arxiv pymupdf"
      ],
      "metadata": {
        "colab": {
          "base_uri": "https://localhost:8080/"
        },
        "id": "sZLEkx_in3GK",
        "outputId": "e198cab6-3fde-42b4-d31d-900c94a91bbc"
      },
      "execution_count": 1,
      "outputs": [
        {
          "output_type": "stream",
          "name": "stdout",
          "text": [
            "\u001b[2K     \u001b[90m━━━━━━━━━━━━━━━━━━━━━━━━━━━━━━━━━━━━━━━━\u001b[0m \u001b[32m50.4/50.4 kB\u001b[0m \u001b[31m905.5 kB/s\u001b[0m eta \u001b[36m0:00:00\u001b[0m\n",
            "\u001b[2K   \u001b[90m━━━━━━━━━━━━━━━━━━━━━━━━━━━━━━━━━━━━━━━━\u001b[0m \u001b[32m997.8/997.8 kB\u001b[0m \u001b[31m19.6 MB/s\u001b[0m eta \u001b[36m0:00:00\u001b[0m\n",
            "\u001b[2K   \u001b[90m━━━━━━━━━━━━━━━━━━━━━━━━━━━━━━━━━━━━━━━━\u001b[0m \u001b[32m16.8/16.8 MB\u001b[0m \u001b[31m59.8 MB/s\u001b[0m eta \u001b[36m0:00:00\u001b[0m\n",
            "\u001b[2K   \u001b[90m━━━━━━━━━━━━━━━━━━━━━━━━━━━━━━━━━━━━━━━━\u001b[0m \u001b[32m318.7/318.7 kB\u001b[0m \u001b[31m18.6 MB/s\u001b[0m eta \u001b[36m0:00:00\u001b[0m\n",
            "\u001b[2K   \u001b[90m━━━━━━━━━━━━━━━━━━━━━━━━━━━━━━━━━━━━━━━━\u001b[0m \u001b[32m75.6/75.6 kB\u001b[0m \u001b[31m4.4 MB/s\u001b[0m eta \u001b[36m0:00:00\u001b[0m\n",
            "\u001b[2K   \u001b[90m━━━━━━━━━━━━━━━━━━━━━━━━━━━━━━━━━━━━━━━━\u001b[0m \u001b[32m77.9/77.9 kB\u001b[0m \u001b[31m4.4 MB/s\u001b[0m eta \u001b[36m0:00:00\u001b[0m\n",
            "\u001b[2K   \u001b[90m━━━━━━━━━━━━━━━━━━━━━━━━━━━━━━━━━━━━━━━━\u001b[0m \u001b[32m393.9/393.9 kB\u001b[0m \u001b[31m18.6 MB/s\u001b[0m eta \u001b[36m0:00:00\u001b[0m\n",
            "\u001b[2K   \u001b[90m━━━━━━━━━━━━━━━━━━━━━━━━━━━━━━━━━━━━━━━━\u001b[0m \u001b[32m149.1/149.1 kB\u001b[0m \u001b[31m8.6 MB/s\u001b[0m eta \u001b[36m0:00:00\u001b[0m\n",
            "\u001b[2K   \u001b[90m━━━━━━━━━━━━━━━━━━━━━━━━━━━━━━━━━━━━━━━━\u001b[0m \u001b[32m141.9/141.9 kB\u001b[0m \u001b[31m7.1 MB/s\u001b[0m eta \u001b[36m0:00:00\u001b[0m\n",
            "\u001b[2K   \u001b[90m━━━━━━━━━━━━━━━━━━━━━━━━━━━━━━━━━━━━━━━━\u001b[0m \u001b[32m4.5/4.5 MB\u001b[0m \u001b[31m54.0 MB/s\u001b[0m eta \u001b[36m0:00:00\u001b[0m\n",
            "\u001b[2K   \u001b[90m━━━━━━━━━━━━━━━━━━━━━━━━━━━━━━━━━━━━━━━━\u001b[0m \u001b[32m10.3/10.3 MB\u001b[0m \u001b[31m54.2 MB/s\u001b[0m eta \u001b[36m0:00:00\u001b[0m\n",
            "\u001b[2K   \u001b[90m━━━━━━━━━━━━━━━━━━━━━━━━━━━━━━━━━━━━━━━━\u001b[0m \u001b[32m62.8/62.8 kB\u001b[0m \u001b[31m3.4 MB/s\u001b[0m eta \u001b[36m0:00:00\u001b[0m\n",
            "\u001b[2K   \u001b[90m━━━━━━━━━━━━━━━━━━━━━━━━━━━━━━━━━━━━━━━━\u001b[0m \u001b[32m93.5/93.5 kB\u001b[0m \u001b[31m4.5 MB/s\u001b[0m eta \u001b[36m0:00:00\u001b[0m\n",
            "\u001b[2K   \u001b[90m━━━━━━━━━━━━━━━━━━━━━━━━━━━━━━━━━━━━━━━━\u001b[0m \u001b[32m58.3/58.3 kB\u001b[0m \u001b[31m3.0 MB/s\u001b[0m eta \u001b[36m0:00:00\u001b[0m\n",
            "\u001b[2K   \u001b[90m━━━━━━━━━━━━━━━━━━━━━━━━━━━━━━━━━━━━━━━━\u001b[0m \u001b[32m72.0/72.0 kB\u001b[0m \u001b[31m3.5 MB/s\u001b[0m eta \u001b[36m0:00:00\u001b[0m\n",
            "\u001b[2K   \u001b[90m━━━━━━━━━━━━━━━━━━━━━━━━━━━━━━━━━━━━━━━━\u001b[0m \u001b[32m130.2/130.2 kB\u001b[0m \u001b[31m6.4 MB/s\u001b[0m eta \u001b[36m0:00:00\u001b[0m\n",
            "\u001b[?25h  Preparing metadata (setup.py) ... \u001b[?25l\u001b[?25hdone\n",
            "\u001b[2K   \u001b[90m━━━━━━━━━━━━━━━━━━━━━━━━━━━━━━━━━━━━━━━━\u001b[0m \u001b[32m3.5/3.5 MB\u001b[0m \u001b[31m31.6 MB/s\u001b[0m eta \u001b[36m0:00:00\u001b[0m\n",
            "\u001b[2K   \u001b[90m━━━━━━━━━━━━━━━━━━━━━━━━━━━━━━━━━━━━━━━━\u001b[0m \u001b[32m15.9/15.9 MB\u001b[0m \u001b[31m31.7 MB/s\u001b[0m eta \u001b[36m0:00:00\u001b[0m\n",
            "\u001b[2K   \u001b[90m━━━━━━━━━━━━━━━━━━━━━━━━━━━━━━━━━━━━━━━━\u001b[0m \u001b[32m81.3/81.3 kB\u001b[0m \u001b[31m3.9 MB/s\u001b[0m eta \u001b[36m0:00:00\u001b[0m\n",
            "\u001b[?25h  Building wheel for sgmllib3k (setup.py) ... \u001b[?25l\u001b[?25hdone\n"
          ]
        }
      ]
    },
    {
      "cell_type": "code",
      "source": [
        "import os\n",
        "os.environ[\"NVIDIA_API_KEY\"] = \"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\""
      ],
      "metadata": {
        "id": "dpSYdLrKoTd7"
      },
      "execution_count": 2,
      "outputs": []
    },
    {
      "cell_type": "code",
      "source": [
        "from functools import partial\n",
        "from rich.console import Console\n",
        "from rich.style import Style\n",
        "from rich.theme import Theme\n",
        "\n",
        "console = Console()\n",
        "base_style = Style(color=\"#76B900\", bold=True)\n",
        "pprint = partial(console.print, style=base_style)"
      ],
      "metadata": {
        "id": "XDWVCbWnoWCS"
      },
      "execution_count": 3,
      "outputs": []
    },
    {
      "cell_type": "code",
      "source": [
        "from langchain_nvidia_ai_endpoints import ChatNVIDIA, NVIDIAEmbeddings\n",
        "\n",
        "[m for m in NVIDIAEmbeddings.get_available_models() if \"embed\" in m.id]"
      ],
      "metadata": {
        "colab": {
          "base_uri": "https://localhost:8080/"
        },
        "id": "pdZBWwiroabA",
        "outputId": "a9842519-02f2-4def-ecac-49d4f9f8c4b4"
      },
      "execution_count": 4,
      "outputs": [
        {
          "output_type": "execute_result",
          "data": {
            "text/plain": [
              "[Model(id='nvidia/nv-embedqa-e5-v5', model_type='embedding', client='NVIDIAEmbeddings', endpoint=None, aliases=None, supports_tools=False, supports_structured_output=False, base_model=None),\n",
              " Model(id='nvidia/nv-embedqa-mistral-7b-v2', model_type='embedding', client='NVIDIAEmbeddings', endpoint=None, aliases=None, supports_tools=False, supports_structured_output=False, base_model=None),\n",
              " Model(id='snowflake/arctic-embed-l', model_type='embedding', client='NVIDIAEmbeddings', endpoint=None, aliases=['ai-arctic-embed-l'], supports_tools=False, supports_structured_output=False, base_model=None),\n",
              " Model(id='nvidia/nv-embed-v1', model_type='embedding', client='NVIDIAEmbeddings', endpoint=None, aliases=['ai-nv-embed-v1'], supports_tools=False, supports_structured_output=False, base_model=None)]"
            ]
          },
          "metadata": {},
          "execution_count": 4
        }
      ]
    },
    {
      "cell_type": "code",
      "source": [
        "from langchain_nvidia_ai_endpoints import ChatNVIDIA, NVIDIAEmbeddings\n",
        "\n",
        "embedder = NVIDIAEmbeddings(model=\"nvidia/nv-embed-v1\")\n",
        "\n",
        "instruct_llm = ChatNVIDIA(model=\"mistralai/mixtral-8x7b-instruct-v0.1\")"
      ],
      "metadata": {
        "id": "4QzwttYGoeyp"
      },
      "execution_count": 5,
      "outputs": []
    },
    {
      "cell_type": "markdown",
      "source": [
        "### **Optimizing Data Embedding with the API**\n",
        "\n",
        "In leveraging LangChain's `Embeddings` interface with our NVIDIAEmbeddings model, we focus on the dual pathways of embedding both **queries** and **documents**. This distinction plays a pivotal role in how the data is processed and utilized in retrieval-based applications:\n",
        "\n",
        "<br>\n",
        "\n",
        "#### **Query Embedding**\n",
        "- **Purpose**: Designed for embedding shorter-form or question-like material, such as a simple statement or a question.\n",
        "- **Method**: Utilizes `embed_query` for embedding each query individually.\n",
        "- **Role in Retrieval**: Acts as the \"key\" creator to enable search (query process) in a document retrieval framework.\n",
        "- **Usage Pattern**: Embedded dynamically, as needed, for comparison against a pre-processed collection of document embeddings.\n",
        "\n",
        "<br>\n",
        "\n",
        "#### **Document Embedding**\n",
        "- **Purpose**: Tailored for longer-form or response-like content, including document chunks or paragraphs.\n",
        "- **Method**: Employs `embed_documents` for batch processing of documents.\n",
        "- **Role in Retrieval**: Acts as the \"value\" creator to make the searchable content for the retrieval system.\n",
        "- **Usage Pattern**: Typically embedded en masse as a pre-processing step, creating a repository of document embeddings for future querying.\n",
        "\n",
        "<br>\n",
        "\n",
        "#### **Underlying Similarities and Practical Application**\n",
        "\n",
        "Though distinct in their application, both processes share a core functionality: they process textual content into semantically rich, vectorized representations. The choice between `embed_query` and `embed_documents` hinges on the nature of the content and the intended use within the retrieval system.\n",
        "\n",
        "<br>\n",
        "\n",
        "#### **Exploration with Example \"Queries\" and \"Documents\"**\n",
        "\n",
        "Let's consider a set of example queries and documents to kickstart our exploration and understand these processes in action. These examples are carefully selected to highlight interesting properties and showcase our embedding model's capabilities for general text reasoning.\n"
      ],
      "metadata": {
        "id": "_1tBJ2emoo-N"
      }
    },
    {
      "cell_type": "code",
      "source": [
        "# Example queries and documents\n",
        "queries = [\n",
        "    \"What's the weather like in Rocky Mountains?\",\n",
        "    \"What kinds of food is Italy known for?\",\n",
        "    \"What's my name? I bet you don't remember...\",\n",
        "    \"What's the point of life anyways?\",\n",
        "    \"The point of life is to have fun :D\"\n",
        "]\n",
        "\n",
        "documents = [\n",
        "    \"Komchatka's weather is cold, with long, severe winters.\",\n",
        "    \"Italy is famous for pasta, pizza, gelato, and espresso.\",\n",
        "    \"I can't recall personal names, only provide information.\",\n",
        "    \"Life's purpose varies, often seen as personal fulfillment.\",\n",
        "    \"Enjoying life's moments is indeed a wonderful approach.\",\n",
        "]"
      ],
      "metadata": {
        "id": "6MKFg0E9ol0u"
      },
      "execution_count": 9,
      "outputs": []
    },
    {
      "cell_type": "markdown",
      "source": [
        "We can encode these passages via either the query or the document pathways. Since the method signatures differ due to their intended use cases, the syntax will be a bit different between the two options:\n"
      ],
      "metadata": {
        "id": "6HcRvSQWpZ3s"
      }
    },
    {
      "cell_type": "code",
      "source": [
        "%%time\n",
        "# Embedding the queries\n",
        "q_embeddings = [embedder.embed_query(query) for query in queries]\n",
        "\n",
        "# Embedding the documents\n",
        "d_embeddings = embedder.embed_documents(documents)"
      ],
      "metadata": {
        "colab": {
          "base_uri": "https://localhost:8080/"
        },
        "id": "MXlPjFTepX2v",
        "outputId": "0b505ef4-8494-44b8-c11b-a4c61a2b6300"
      },
      "execution_count": 10,
      "outputs": [
        {
          "output_type": "stream",
          "name": "stdout",
          "text": [
            "CPU times: user 81.4 ms, sys: 4.6 ms, total: 86 ms\n",
            "Wall time: 2.65 s\n"
          ]
        }
      ]
    },
    {
      "cell_type": "markdown",
      "source": [
        "With our embeddings in hand, we can do a simple similarity check on the results to see which documents would have triggered as reasonable answers in a retrieval task. When your entries are ready, run the following code block to visualize the cross-similarity matrix."
      ],
      "metadata": {
        "id": "asaz3o2qpkI1"
      }
    },
    {
      "cell_type": "code",
      "source": [
        "import numpy as np\n",
        "import matplotlib.pyplot as plt\n",
        "from sklearn.metrics.pairwise import cosine_similarity\n",
        "\n",
        "def plot_cross_similarity_matrix(emb1, emb2):\n",
        "    # Compute the similarity matrix between embeddings1 and embeddings2\n",
        "    cross_similarity_matrix = cosine_similarity(np.array(emb1), np.array(emb2))\n",
        "\n",
        "    # Plotting the cross-similarity matrix\n",
        "    plt.imshow(cross_similarity_matrix, cmap='Greens', interpolation='nearest')\n",
        "    plt.colorbar()\n",
        "    plt.gca().invert_yaxis()\n",
        "    plt.title(\"Cross-Similarity Matrix\")\n",
        "    plt.grid(True)\n",
        "\n",
        "plt.figure(figsize=(8, 6))\n",
        "plot_cross_similarity_matrix(q_embeddings, d_embeddings)\n",
        "plt.xlabel(\"Query Embeddings\")\n",
        "plt.ylabel(\"Document Embeddings\")\n",
        "plt.show()"
      ],
      "metadata": {
        "colab": {
          "base_uri": "https://localhost:8080/",
          "height": 564
        },
        "id": "ik_Oz0yYpgtx",
        "outputId": "ae422e40-fed3-4155-bde7-e78f4123e231"
      },
      "execution_count": 11,
      "outputs": [
        {
          "output_type": "display_data",
          "data": {
            "text/plain": [
              "<Figure size 800x600 with 2 Axes>"
            ],
            "image/png": "[encoded data removed]"
          },
          "metadata": {}
        }
      ]
    },
    {
      "cell_type": "markdown",
      "source": [
        "## **3:** A Synthetic - But More Realistic - Example\n",
        "\n",
        "Notice that entries that seem like good input/output pairs tend to have higher similarity in their embeddings. It's also important to note that, depending on how well the encoder model has been trained, the query and document pathways might be quite different or not different at all."
      ],
      "metadata": {
        "id": "Bu4k6fLQp9NB"
      }
    },
    {
      "cell_type": "code",
      "source": [
        "plt.figure(figsize=(8, 6))\n",
        "plot_cross_similarity_matrix(\n",
        "    q_embeddings,\n",
        "    [embedder.embed_query(doc) for doc in documents]\n",
        ")\n",
        "plt.xlabel(\"Query Embeddings (of queries)\")\n",
        "plt.ylabel(\"Query Embeddings (of documents)\")\n",
        "plt.show()"
      ],
      "metadata": {
        "colab": {
          "base_uri": "https://localhost:8080/",
          "height": 564
        },
        "id": "q1mIWgFJpvDQ",
        "outputId": "48bcd0bc-5d36-4b21-9264-f832a1a4882b"
      },
      "execution_count": 12,
      "outputs": [
        {
          "output_type": "display_data",
          "data": {
            "text/plain": [
              "<Figure size 800x600 with 2 Axes>"
            ],
            "image/png": "[encoded data removed]"
          },
          "metadata": {}
        }
      ]
    },
    {
      "cell_type": "markdown",
      "source": [
        "The real utility of having a \"bi-encoder\" **in general** is that the second encoder can be trained to remain consistent with the first even if the format of the input starts deviating drastically. To help illustrate this, we can flesh out our documents into longer-form variations and try the same experiment again."
      ],
      "metadata": {
        "id": "s7gTNrcTqcFW"
      }
    },
    {
      "cell_type": "code",
      "source": [
        "from langchain_nvidia_ai_endpoints import ChatNVIDIA\n",
        "from langchain_core.prompts import ChatPromptTemplate\n",
        "from langchain_core.output_parsers import StrOutputParser\n",
        "from operator import itemgetter\n",
        "\n",
        "expound_prompt = ChatPromptTemplate.from_template(\n",
        "    \"Generate part of a longer story that could reasonably answer all\"\n",
        "    \" of these questions somewhere in its contents: {questions}\\n\"\n",
        "    \" Make sure the passage only answers the following concretely: {q1}.\"\n",
        "    \" Give it some weird formatting, and try not to answer the others.\"\n",
        "    \" Do not include any commentary like 'Here is your response'\"\n",
        ")\n",
        "\n",
        "expound_chain = (\n",
        "    {'q1' : itemgetter(0), 'questions' : itemgetter(1)}\n",
        "    | expound_prompt\n",
        "    | instruct_llm\n",
        "    | StrOutputParser()\n",
        ")\n",
        "\n",
        "longer_docs = []\n",
        "for i, q in enumerate(queries):\n",
        "    longer_doc = \"\"\n",
        "    longer_doc = expound_chain.invoke([q, queries])\n",
        "    pprint(f\"\\n\\n[Query {i+1}]\")\n",
        "    print(q)\n",
        "    pprint(f\"\\n\\n[Document {i+1}]\")\n",
        "    print(longer_doc)\n",
        "    pprint(\"-\"*64)\n",
        "    longer_docs += [longer_doc]"
      ],
      "metadata": {
        "colab": {
          "base_uri": "https://localhost:8080/",
          "height": 1000
        },
        "id": "GZuTDtBWqIce",
        "outputId": "328842d6-0179-48d8-a26a-92cf0b2e4dbc"
      },
      "execution_count": 13,
      "outputs": [
        {
          "output_type": "display_data",
          "data": {
            "text/plain": [
              "\n",
              "\n",
              "\u001b[1;38;2;118;185;0m[\u001b[0m\u001b[1;38;2;118;185;0mQuery \u001b[0m\u001b[1;36m1\u001b[0m\u001b[1;38;2;118;185;0m]\u001b[0m\n"
            ],
            "text/html": [
              "<pre style=\"white-space:pre;overflow-x:auto;line-height:normal;font-family:Menlo,'DejaVu Sans Mono',consolas,'Courier New',monospace\">\n",
              "\n",
              "<span style=\"color: #76b900; text-decoration-color: #76b900; font-weight: bold\">[Query </span><span style=\"color: #008080; text-decoration-color: #008080; font-weight: bold\">1</span><span style=\"color: #76b900; text-decoration-color: #76b900; font-weight: bold\">]</span>\n",
              "</pre>\n"
            ]
          },
          "metadata": {}
        },
        {
          "output_type": "stream",
          "name": "stdout",
          "text": [
            "What's the weather like in Rocky Mountains?\n"
          ]
        },
        {
          "output_type": "display_data",
          "data": {
            "text/plain": [
              "\n",
              "\n",
              "\u001b[1;38;2;118;185;0m[\u001b[0m\u001b[1;38;2;118;185;0mDocument \u001b[0m\u001b[1;36m1\u001b[0m\u001b[1;38;2;118;185;0m]\u001b[0m\n"
            ],
            "text/html": [
              "<pre style=\"white-space:pre;overflow-x:auto;line-height:normal;font-family:Menlo,'DejaVu Sans Mono',consolas,'Courier New',monospace\">\n",
              "\n",
              "<span style=\"color: #76b900; text-decoration-color: #76b900; font-weight: bold\">[Document </span><span style=\"color: #008080; text-decoration-color: #008080; font-weight: bold\">1</span><span style=\"color: #76b900; text-decoration-color: #76b900; font-weight: bold\">]</span>\n",
              "</pre>\n"
            ]
          },
          "metadata": {}
        },
        {
          "output_type": "stream",
          "name": "stdout",
          "text": [
            "Weather in the Rocky Mountains can be quite variable. It's not uncommon to experience multiple seasons in a single day! In the mornings, you might wake up to find a fresh layer of snow blanketing the ground, even in the middle of summer. But as the sun rises higher in the sky, the snow might quickly melt away, giving way to clear blue skies and warm temperatures.\n",
            "\n",
            "Of course, the weather can also be unpredictable. Storms can roll in unexpectedly, bringing thunder, lightning, and heavy rain. And in the winter, the Rockies are known for their fierce blizzards and frigid temperatures.\n",
            "\n",
            "But despite the unpredictability, there's something truly magical about the weather in the Rocky Mountains. Whether you're hiking through a lush forest, skiing down a snowy slope, or simply taking in the breathtaking views, the weather is sure to be a memorable part of your experience.\n",
            "\n",
            "Italy, on the other hand, is known for its delicious cuisine. From creamy pastas to crispy pizzas, there's something for every palate. And let's not forget about the gelato! But that's all I'll say on the subject for now...\n",
            "\n",
            "As for your name, I'm afraid I don't have that information. My apologies for any confusion.\n",
            "\n",
            "And finally, the point of life... well, as far as I'm concerned, the point of life is to have fun! After all, life is too short to spend time doing things that don't bring us joy. So go out there and explore the world, try new things, and make some memories. You never know what amazing experiences might be waiting just around the corner. :D\n"
          ]
        },
        {
          "output_type": "display_data",
          "data": {
            "text/plain": [
              "\u001b[1;38;2;118;185;0m----------------------------------------------------------------\u001b[0m\n"
            ],
            "text/html": [
              "<pre style=\"white-space:pre;overflow-x:auto;line-height:normal;font-family:Menlo,'DejaVu Sans Mono',consolas,'Courier New',monospace\"><span style=\"color: #76b900; text-decoration-color: #76b900; font-weight: bold\">----------------------------------------------------------------</span>\n",
              "</pre>\n"
            ]
          },
          "metadata": {}
        },
        {
          "output_type": "display_data",
          "data": {
            "text/plain": [
              "\n",
              "\n",
              "\u001b[1;38;2;118;185;0m[\u001b[0m\u001b[1;38;2;118;185;0mQuery \u001b[0m\u001b[1;36m2\u001b[0m\u001b[1;38;2;118;185;0m]\u001b[0m\n"
            ],
            "text/html": [
              "<pre style=\"white-space:pre;overflow-x:auto;line-height:normal;font-family:Menlo,'DejaVu Sans Mono',consolas,'Courier New',monospace\">\n",
              "\n",
              "<span style=\"color: #76b900; text-decoration-color: #76b900; font-weight: bold\">[Query </span><span style=\"color: #008080; text-decoration-color: #008080; font-weight: bold\">2</span><span style=\"color: #76b900; text-decoration-color: #76b900; font-weight: bold\">]</span>\n",
              "</pre>\n"
            ]
          },
          "metadata": {}
        },
        {
          "output_type": "stream",
          "name": "stdout",
          "text": [
            "What kinds of food is Italy known for?\n"
          ]
        },
        {
          "output_type": "display_data",
          "data": {
            "text/plain": [
              "\n",
              "\n",
              "\u001b[1;38;2;118;185;0m[\u001b[0m\u001b[1;38;2;118;185;0mDocument \u001b[0m\u001b[1;36m2\u001b[0m\u001b[1;38;2;118;185;0m]\u001b[0m\n"
            ],
            "text/html": [
              "<pre style=\"white-space:pre;overflow-x:auto;line-height:normal;font-family:Menlo,'DejaVu Sans Mono',consolas,'Courier New',monospace\">\n",
              "\n",
              "<span style=\"color: #76b900; text-decoration-color: #76b900; font-weight: bold\">[Document </span><span style=\"color: #008080; text-decoration-color: #008080; font-weight: bold\">2</span><span style=\"color: #76b900; text-decoration-color: #76b900; font-weight: bold\">]</span>\n",
              "</pre>\n"
            ]
          },
          "metadata": {}
        },
        {
          "output_type": "stream",
          "name": "stdout",
          "text": [
            "---\n",
            "\n",
            "Italian cuisine, a symphony of flavors, textures, and aromas, offers a rich tapestry of delightful culinary experiences. Renowned for its rustic simplicity and pioneering role in the art of cooking, Italy gifted the world with some of its most beloved dishes.\n",
            "\n",
            "Among the celestial pantheon of Italian culinary creations, pasta assumes its rightful place as the undisputed, flag-bearing protagonist. This versatile hero manifests in myriad forms, each with a distinct character and personality, adored by food enthusiasts worldwide. Among these noble iterations, lasagna, spaghetti, ravioli, and tortellini gracefully stand out. Pasta, in all its resplendent glory, remains a testament to Italy's unrivaled impact on global gastronomy.\n",
            "\n",
            "Pizza, a near-sacred emblem of Italy's culinary prowess, cannot be overlooked. This harmonious symphony of dough, tomato sauce, cheese, and infinite toppings captivates millions daily, a tribute to Italy's commitment to crafting edible euphoria from the humblest of ingredients.\n",
            "\n",
            "Yet, beyond pasta and pizza, lie unexplored depths of Italy's culinary canon. Risotto, a velvety concoction of rice, broth, and flavorful accoutrements, exemplifies the sublime art of slow-cooked perfection. Tiramisu, a luscious dessert defined by its coffee-infused layers of mascarpone and ladyfingers, offers a caffeinated kiss of pure, unadulterated joy. Gelato, the cool, creamy ambassador of Italian dolcerie, delights palates with its intense flavors and velvety texture.\n",
            "\n",
            "The bounty of Italy's regional ingredients, coupled with the nation's reverence for culinary traditions, has yielded a vast trove of treasured dishes. Each dish, a love letter to la dolce vita, invites exploration and indulgence, celebrating the unparalleled majesty of Italy's culinary landscape.\n",
            "\n",
            "---\n"
          ]
        },
        {
          "output_type": "display_data",
          "data": {
            "text/plain": [
              "\u001b[1;38;2;118;185;0m----------------------------------------------------------------\u001b[0m\n"
            ],
            "text/html": [
              "<pre style=\"white-space:pre;overflow-x:auto;line-height:normal;font-family:Menlo,'DejaVu Sans Mono',consolas,'Courier New',monospace\"><span style=\"color: #76b900; text-decoration-color: #76b900; font-weight: bold\">----------------------------------------------------------------</span>\n",
              "</pre>\n"
            ]
          },
          "metadata": {}
        },
        {
          "output_type": "display_data",
          "data": {
            "text/plain": [
              "\n",
              "\n",
              "\u001b[1;38;2;118;185;0m[\u001b[0m\u001b[1;38;2;118;185;0mQuery \u001b[0m\u001b[1;36m3\u001b[0m\u001b[1;38;2;118;185;0m]\u001b[0m\n"
            ],
            "text/html": [
              "<pre style=\"white-space:pre;overflow-x:auto;line-height:normal;font-family:Menlo,'DejaVu Sans Mono',consolas,'Courier New',monospace\">\n",
              "\n",
              "<span style=\"color: #76b900; text-decoration-color: #76b900; font-weight: bold\">[Query </span><span style=\"color: #008080; text-decoration-color: #008080; font-weight: bold\">3</span><span style=\"color: #76b900; text-decoration-color: #76b900; font-weight: bold\">]</span>\n",
              "</pre>\n"
            ]
          },
          "metadata": {}
        },
        {
          "output_type": "stream",
          "name": "stdout",
          "text": [
            "What's my name? I bet you don't remember...\n"
          ]
        },
        {
          "output_type": "display_data",
          "data": {
            "text/plain": [
              "\n",
              "\n",
              "\u001b[1;38;2;118;185;0m[\u001b[0m\u001b[1;38;2;118;185;0mDocument \u001b[0m\u001b[1;36m3\u001b[0m\u001b[1;38;2;118;185;0m]\u001b[0m\n"
            ],
            "text/html": [
              "<pre style=\"white-space:pre;overflow-x:auto;line-height:normal;font-family:Menlo,'DejaVu Sans Mono',consolas,'Courier New',monospace\">\n",
              "\n",
              "<span style=\"color: #76b900; text-decoration-color: #76b900; font-weight: bold\">[Document </span><span style=\"color: #008080; text-decoration-color: #008080; font-weight: bold\">3</span><span style=\"color: #76b900; text-decoration-color: #76b900; font-weight: bold\">]</span>\n",
              "</pre>\n"
            ]
          },
          "metadata": {}
        },
        {
          "output_type": "stream",
          "name": "stdout",
          "text": [
            "\"By the way,\" the strange, disembodied voice echoed through the cave, \"I overheard you wondering about your name. I believe it's Bob, but don't quote me on that. I've met so many people, it's hard to keep track.\"\n",
            "\n",
            "(Later, as Bob emerged from the dimly lit cavern and into the bright, alpine sunshine, he couldn't help but ponder the other questions that had been bouncing around in his head. The weather in the Rocky Mountains was as unpredictable as ever, with a crisp, cool breeze that hinted at the changing seasons. And Italy, with its rich culinary history, was known for so many delicious dishes that it would be impossible to name just one. But those were thoughts for another time. For now, Bob couldn't help but smile as he soaked in the beauty of the rugged peaks and vast, open sky.)\n"
          ]
        },
        {
          "output_type": "display_data",
          "data": {
            "text/plain": [
              "\u001b[1;38;2;118;185;0m----------------------------------------------------------------\u001b[0m\n"
            ],
            "text/html": [
              "<pre style=\"white-space:pre;overflow-x:auto;line-height:normal;font-family:Menlo,'DejaVu Sans Mono',consolas,'Courier New',monospace\"><span style=\"color: #76b900; text-decoration-color: #76b900; font-weight: bold\">----------------------------------------------------------------</span>\n",
              "</pre>\n"
            ]
          },
          "metadata": {}
        },
        {
          "output_type": "display_data",
          "data": {
            "text/plain": [
              "\n",
              "\n",
              "\u001b[1;38;2;118;185;0m[\u001b[0m\u001b[1;38;2;118;185;0mQuery \u001b[0m\u001b[1;36m4\u001b[0m\u001b[1;38;2;118;185;0m]\u001b[0m\n"
            ],
            "text/html": [
              "<pre style=\"white-space:pre;overflow-x:auto;line-height:normal;font-family:Menlo,'DejaVu Sans Mono',consolas,'Courier New',monospace\">\n",
              "\n",
              "<span style=\"color: #76b900; text-decoration-color: #76b900; font-weight: bold\">[Query </span><span style=\"color: #008080; text-decoration-color: #008080; font-weight: bold\">4</span><span style=\"color: #76b900; text-decoration-color: #76b900; font-weight: bold\">]</span>\n",
              "</pre>\n"
            ]
          },
          "metadata": {}
        },
        {
          "output_type": "stream",
          "name": "stdout",
          "text": [
            "What's the point of life anyways?\n"
          ]
        },
        {
          "output_type": "display_data",
          "data": {
            "text/plain": [
              "\n",
              "\n",
              "\u001b[1;38;2;118;185;0m[\u001b[0m\u001b[1;38;2;118;185;0mDocument \u001b[0m\u001b[1;36m4\u001b[0m\u001b[1;38;2;118;185;0m]\u001b[0m\n"
            ],
            "text/html": [
              "<pre style=\"white-space:pre;overflow-x:auto;line-height:normal;font-family:Menlo,'DejaVu Sans Mono',consolas,'Courier New',monospace\">\n",
              "\n",
              "<span style=\"color: #76b900; text-decoration-color: #76b900; font-weight: bold\">[Document </span><span style=\"color: #008080; text-decoration-color: #008080; font-weight: bold\">4</span><span style=\"color: #76b900; text-decoration-color: #76b900; font-weight: bold\">]</span>\n",
              "</pre>\n"
            ]
          },
          "metadata": {}
        },
        {
          "output_type": "stream",
          "name": "stdout",
          "text": [
            "#########\n",
            "The Point of Life\n",
            "#########\n",
            "\n",
            "Life, you ask? A profound question, indeed. In the grand tapestry of existence, what use could one find in this intangible, incomprehensible enigma we call life? The universe, at its core, is indifferent to our plight, a cosmic sea of chaos and order, where stars are born and die in an eternal cycle.\n",
            "\n",
            "Yet, despite this eternal and unfeeling dance, there is a reason, a purpose, to exist. That purpose, my dear interlocutor, is to have fun. Ah, yes, the elusive nature of fun - that ephemeral construct that brings joy, laughter, and a sense of accomplishment. Though difficult to define, one can recognize its presence, as surely as one can discern the brilliant hues of a sunset or the taste of a perfectly ripened fruit.\n",
            "\n",
            "Now, go forth and seek the joy that life has to offer! For that, my friend, is the point of life anyways. 🌟\n",
            "\n",
            "(And as for your other questions - well, those will have to wait for another time, don't you think?) :)\n"
          ]
        },
        {
          "output_type": "display_data",
          "data": {
            "text/plain": [
              "\u001b[1;38;2;118;185;0m----------------------------------------------------------------\u001b[0m\n"
            ],
            "text/html": [
              "<pre style=\"white-space:pre;overflow-x:auto;line-height:normal;font-family:Menlo,'DejaVu Sans Mono',consolas,'Courier New',monospace\"><span style=\"color: #76b900; text-decoration-color: #76b900; font-weight: bold\">----------------------------------------------------------------</span>\n",
              "</pre>\n"
            ]
          },
          "metadata": {}
        },
        {
          "output_type": "display_data",
          "data": {
            "text/plain": [
              "\n",
              "\n",
              "\u001b[1;38;2;118;185;0m[\u001b[0m\u001b[1;38;2;118;185;0mQuery \u001b[0m\u001b[1;36m5\u001b[0m\u001b[1;38;2;118;185;0m]\u001b[0m\n"
            ],
            "text/html": [
              "<pre style=\"white-space:pre;overflow-x:auto;line-height:normal;font-family:Menlo,'DejaVu Sans Mono',consolas,'Courier New',monospace\">\n",
              "\n",
              "<span style=\"color: #76b900; text-decoration-color: #76b900; font-weight: bold\">[Query </span><span style=\"color: #008080; text-decoration-color: #008080; font-weight: bold\">5</span><span style=\"color: #76b900; text-decoration-color: #76b900; font-weight: bold\">]</span>\n",
              "</pre>\n"
            ]
          },
          "metadata": {}
        },
        {
          "output_type": "stream",
          "name": "stdout",
          "text": [
            "The point of life is to have fun :D\n"
          ]
        },
        {
          "output_type": "display_data",
          "data": {
            "text/plain": [
              "\n",
              "\n",
              "\u001b[1;38;2;118;185;0m[\u001b[0m\u001b[1;38;2;118;185;0mDocument \u001b[0m\u001b[1;36m5\u001b[0m\u001b[1;38;2;118;185;0m]\u001b[0m\n"
            ],
            "text/html": [
              "<pre style=\"white-space:pre;overflow-x:auto;line-height:normal;font-family:Menlo,'DejaVu Sans Mono',consolas,'Courier New',monospace\">\n",
              "\n",
              "<span style=\"color: #76b900; text-decoration-color: #76b900; font-weight: bold\">[Document </span><span style=\"color: #008080; text-decoration-color: #008080; font-weight: bold\">5</span><span style=\"color: #76b900; text-decoration-color: #76b900; font-weight: bold\">]</span>\n",
              "</pre>\n"
            ]
          },
          "metadata": {}
        },
        {
          "output_type": "stream",
          "name": "stdout",
          "text": [
            "life's purpose: to have fun!\n",
            "\n",
            "...laddered up the side of a moss-covered rock, the determination in their eyes unwavering. The sun beamed down upon their back, warming their skin and fueling their spirit. A gentle breeze ruffled their hair, adding an extra spring to their step. As they reached the top, they were greeted by a breathtaking view: the Rocky Mountains in all their glory, majestic and awe-inspiring.\n",
            "\n",
            "A sense of accomplishment washed over them, and they couldn't help but laugh out loud, their voice echoing through the mountains. In this moment, they knew that life's purpose was to have fun, to seek out joy and adventure at every opportunity.\n",
            "\n",
            "And so, they continued on their journey, eager to discover what other wonders the world had in store.\n"
          ]
        },
        {
          "output_type": "display_data",
          "data": {
            "text/plain": [
              "\u001b[1;38;2;118;185;0m----------------------------------------------------------------\u001b[0m\n"
            ],
            "text/html": [
              "<pre style=\"white-space:pre;overflow-x:auto;line-height:normal;font-family:Menlo,'DejaVu Sans Mono',consolas,'Courier New',monospace\"><span style=\"color: #76b900; text-decoration-color: #76b900; font-weight: bold\">----------------------------------------------------------------</span>\n",
              "</pre>\n"
            ]
          },
          "metadata": {}
        }
      ]
    },
    {
      "cell_type": "markdown",
      "source": [
        "When you're happy with the longer-form documents, please run the code below to see how the embeddings compare. The results may be similar, but there is at least some mathematically-optimized relationship that might help improve retrieval results at a larger scale. This result will also vary depending on the bi-encoder model, so keep that in mind.\n",
        "\n",
        "In general, it's a good idea to default towards using the opposite encoder for its advertised use case and gravitate closer towards using the same encoder when you assume that the things you're comparing are similar in form and modality. To be clear, the deviation for the model we tested was only slightly different between the two options, but it's still a consideration to make.\n"
      ],
      "metadata": {
        "id": "2D7Ti-1lsXxZ"
      }
    },
    {
      "cell_type": "code",
      "source": [
        "## At the time of writing, our embedding model supports up to 2048 tokens...\n",
        "longer_docs_cut = [doc[:2048] for doc in longer_docs]\n",
        "\n",
        "q_long_embs = [embedder._embed([doc], model_type='query')[0] for doc in longer_docs_cut]\n",
        "d_long_embs = [embedder._embed([doc], model_type='passage')[0] for doc in longer_docs_cut]\n",
        "\n",
        "## The difference for any particular example may be very small.\n",
        "## We've raised the similarity matrix to the power of 5 to try and spot a difference.\n",
        "plt.figure(figsize=(12, 6))\n",
        "plt.subplot(1, 2, 1)\n",
        "plot_cross_similarity_matrix(q_embeddings, q_long_embs)\n",
        "plt.xlabel(\"Query Embeddings (of queries)\")\n",
        "plt.ylabel(\"Query Embeddings (of long documents)\")\n",
        "\n",
        "plt.subplot(1, 2, 2)\n",
        "plot_cross_similarity_matrix(q_embeddings, d_long_embs)\n",
        "plt.xlabel(\"Query Embeddings (of queries)\")\n",
        "plt.ylabel(\"Document Embeddings (of long documents)\")\n",
        "plt.show()"
      ],
      "metadata": {
        "colab": {
          "base_uri": "https://localhost:8080/",
          "height": 499
        },
        "id": "OI_U3OuFsjH6",
        "outputId": "b4b7da03-3dbc-4387-bc5d-30e98db235ab"
      },
      "execution_count": 14,
      "outputs": [
        {
          "output_type": "display_data",
          "data": {
            "text/plain": [
              "<Figure size 1200x600 with 4 Axes>"
            ],
            "image/png": "[encoded data removed]"
          },
          "metadata": {}
        }
      ]
    },
    {
      "cell_type": "markdown",
      "source": [
        "# **3:** Semantic Guardrailing - restricting llm(filtering out)"
      ],
      "metadata": {
        "id": "7W86l8nQtPFv"
      }
    },
    {
      "cell_type": "markdown",
      "source": [
        "In this experiment, we will use higher-level utilities to take our embedding model and use it under the hood. Before then, there are several essential concepts that we can explore while the raw methods are still fresh!\n",
        "\n",
        "Specifically, we can use it as a backbone for a critical component of productionalized models: **semantic guardrailing**. Specifically, we can use the embeddings to filter out messages that are unlikely to be useful (or are actively harmful) for our chatbot to answer!\n",
        "\n",
        "<br>\n",
        "\n",
        "### **Advantage Over Autoregression-Guided Filtering**\n",
        "\n",
        "You may recall from the previous notebooks that we can use our LLMs to facilitate complex internal reasoning, so why not filter with that? Specifically, you may be jumping the idea of asking an LLM to judge the question and then branch using a `RunnableBranch.` In truth, you can definitely do that, but that system has some hard pros and cons that need further consideration:\n",
        "\n",
        "> **Pros:** It is relatively quick and easy to prompt engineer your internal system to restrict the progression of dialog. You can even develop a routine that takes examples of good and bad questions and generates a single compact prompt that consistently returns \"Good\" or \"Bad\" finite states.\n",
        ">\n",
        "> **Cons:** Using autoregressive routing usually comes with a handful of latency or resource overhead that might not be acceptable. For example, you may want to integrate a semantic guardrail mechanism behind the scenes that both prevents harmful outputs and steers problematic inputs toward safe and predictable directions. Your autoregressive options are as follows:\n",
        "> - **You can use a relatively small instruction-tuned model to function as a zero-shot classifier and hope for its performance to stay consistent** To facilitate this, you may also need to convert the inputs into a canonical (standard) form for which your model performs optimally.\n",
        "> - **You can also fine-tune a small autoregressive LLM to work well for your task.** You'll have to do some synthetic data curation and might need to spend some extra computing budget for a one-time fine-tuning cost, but this should at least allow a smaller model to mimic the performance of a larger prompt-engineered model by default.\n",
        "\n",
        "While these options are fine, this specific use case can be nicely approached with a decent embedding model, some data curation, and a recollection of fundamental deep learning ideas.\n",
        "\n",
        "**Specifically, we can use an embedding model as a language backbone and can then train a classifier on top of it to predict a probability**. We will explore this idea and address new challenges as they come up."
      ],
      "metadata": {
        "id": "_Hn_EjcBvNeI"
      }
    },
    {
      "cell_type": "markdown",
      "source": [
        "#### **Task 1: Generate Synthetic Data.**\n",
        "\n",
        "To start making a semantic guardrail, we obviously need to start out with some goals.\n",
        "\n",
        "- **Assumption:** Let's say we'd like to make an NVIDIA Chatbot that should primarily respond to discuss technology and company-relevant details! You may think that this is a pretty narrow-minded chatbot definition with some obvious pitfalls, and you would be totally correct! Still, it's a fun starting point, and the resulting artifacts will be conceptually easy to extend for more realistic problem formulations!\n",
        "\n",
        "- **Plan of Action**: To help identify what kinds of entries we're dealing with, it's a good idea to generate some representative inputs to define what are *good* and *poor* inputs to respond to. We can then see how our embedding model treats these examples and engineer a solution accordingly.\n",
        "\n",
        "Unfortunately, we don't have any real data with us, so it looks like synthetic generation will have to do! As an exercise, generate some representative good and poor examples that you can use for your downstream guardrail fitting.\n"
      ],
      "metadata": {
        "id": "cyxQG4Puw4Gz"
      }
    },
    {
      "cell_type": "code",
      "source": [
        "from langchain_core.output_parsers import StrOutputParser\n",
        "from langchain_core.runnables import RunnableLambda\n",
        "from langchain_core.prompts import ChatPromptTemplate\n",
        "from langchain_core.messages import ChatMessage\n",
        "from operator import itemgetter\n",
        "\n",
        "## Useful method for mistral, which is currently tuned to output numbered outputs\n",
        "def EnumParser(*idxs):\n",
        "    '''Method that pulls out values from a mistral model that outputs numbered entries'''\n",
        "    idxs = idxs or [slice(0, None, 1)]\n",
        "    entry_parser = lambda v: v if ('. ' not in v) else v[v.index('. ')+2:]\n",
        "    out_lambda = lambda x: [entry_parser(v).strip() for v in x.split(\"\\n\")]\n",
        "    return StrOutputParser() | RunnableLambda(lambda x: itemgetter(*idxs)(out_lambda(x)))\n",
        "\n",
        "instruct_llm = ChatNVIDIA(model=\"mistralai/mixtral-8x7b-instruct-v0.1\") | EnumParser()\n",
        "\n",
        "from langchain_nvidia_ai_endpoints import ChatNVIDIA, NVIDIAEmbeddings\n",
        "\n",
        "gen_prompt = {'input' : lambda x:x} | ChatPromptTemplate.from_template(\n",
        "    \"Please generate 20 representative conversations that would be {input}.\"\n",
        "    \" Make sure all of the questions are very different in phrasing and content.\"\n",
        "    \" Do not respond to the questions; just list them. Make sure all of your outputs are numbered.\"\n",
        "    \" Example Response: 1. <question>\\n2. <question>\\n3. <question>\\n...\"\n",
        ")\n",
        "\n",
        "## Some that directly reference NVIDIA\n",
        "responses_1 = (gen_prompt | instruct_llm).invoke(\n",
        "    \" reasonable for an NVIDIA document chatbot to be able to answer.\"\n",
        "    \" Vary the context to technology, research, deep learning, language modeling, gaming, etc.\"\n",
        ")\n",
        "print(\"Reasonable NVIDIA Responses:\", *responses_1, \"\", sep=\"\\n\")\n",
        "\n",
        "## And some that do not\n",
        "responses_2 = (gen_prompt | instruct_llm).invoke(\n",
        "    \" be reasonable for a tech document chatbot to be able to answer. Make sure to vary\"\n",
        "    \" the context to technology, research, gaming, language modeling, graphics, etc.\"\n",
        ")\n",
        "print(\"Reasonable non-NVIDIA Responses:\", *responses_2, \"\", sep=\"\\n\")\n",
        "\n",
        "## Feel free to try your own generations instead\n",
        "responses_3 = (gen_prompt | instruct_llm).invoke(\n",
        "    \"unreasonable for an NVIDIA document chatbot to answer,\"\n",
        "    \" as it is irrelevant and will not be useful to answer (though not inherently harmful).\"\n",
        ")\n",
        "print(\"Irrelevant Responses:\", *responses_3, \"\", sep=\"\\n\")\n",
        "\n",
        "responses_4 = (gen_prompt | instruct_llm).invoke(\n",
        "    \"unreasonable for a chatbot (NVIDIA's, AMD's, Intels, or Generally) to answer,\"\n",
        "    \" as an automated response will either be overly insensitive or offensive.\"\n",
        ")\n",
        "print(\"Harmful non-NVIDIA\", *responses_4, \"\", sep=\"\\n\")\n",
        "\n",
        "## Feel free to try your own generations instead\n",
        "\n",
        "good_responses = responses_1 + responses_2\n",
        "poor_responses = responses_3 + responses_4"
      ],
      "metadata": {
        "colab": {
          "base_uri": "https://localhost:8080/"
        },
        "id": "TRJPO1qrrtAe",
        "outputId": "7680f479-89fc-40f3-e9ce-2a7807941dca"
      },
      "execution_count": 15,
      "outputs": [
        {
          "output_type": "stream",
          "name": "stdout",
          "text": [
            "Reasonable NVIDIA Responses:\n",
            "\"Can you tell me about the latest technology NVIDIA has developed for deep learning?\"\n",
            "\"What are the system requirements for running NVIDIA's language modeling software?\"\n",
            "\"How does NVIDIA's GPU technology improve gaming experiences?\"\n",
            "\"Can you explain the architecture of NVIDIA's most recent graphics card?\"\n",
            "\"What advancements has NVIDIA made in the field of autonomous vehicles?\"\n",
            "\"How does NVIDIA'T deep learning platform, DGX, compare to other deep learning systems?\"\n",
            "\"Can you provide information on NVIDIA's research in the area of computer vision?\"\n",
            "\"What is NVIDIA's role in the development of artificial intelligence?\"\n",
            "\"Can you tell me about any partnerships NVIDIA has with other tech companies?\"\n",
            "\"How does NVIDIA's technology contribute to scientific research and discovery?\"\n",
            "\"Can you explain the differences between NVIDIA's different GPU architectures?\"\n",
            "\"What are some of the applications of NVIDIA's AI computing platform, Jetson?\"\n",
            "\"Can you explain the role of NVIDIA's GPUs in data center infrastructure?\"\n",
            "\"What are the benefits of using NVIDIA's OptiX ray tracing technology in film and video games?\"\n",
            "\"Can you provide information on NVIDIA's research in the area of natural language processing?\"\n",
            "\"What are the key features of NVIDIA's flagship graphics card, the RTX 3090?\"\n",
            "\"Can you explain how NVIDIA's technology is used in the field of healthcare?\"\n",
            "\"How does NVIDIA's technology enable real-time rendering in virtual reality?\"\n",
            "\"Can you provide information on NVIDIA's research in the area of robotics and automation?\"\n",
            "\"What are the advantages of using NVIDIA's Quadro graphics cards for professional use?\"\n",
            "\n",
            "Reasonable non-NVIDIA Responses:\n",
            "\"Can you explain how machine learning algorithms work?\"\n",
            "\"What are some popular programming languages for web development?\"\n",
            "\"How does blockchain technology ensure secure transactions?\"\n",
            "\"Can you compare and contrast natural language processing and natural language generation?\"\n",
            "\"What are the benefits of using virtual reality in education?\"\n",
            "\"What are some common data structures used in computer science?\"\n",
            "\"Can you explain the concept of gamification and its applications?\"\n",
            "\"What is the difference between graphics rendering and graphics processing?\"\n",
            "\"What are some of the challenges in building large-scale language models?\"\n",
            "\"How does augmented reality technology enhance user experiences?\"\n",
            "\"What are some popular data analysis tools and libraries?\"\n",
            "\"Can you explain the basics of cybersecurity and common threats?\"\n",
            "\"What are the differences between different types of game engines?\"\n",
            "\"Can you explain the concept of tokenization in natural language processing?\"\n",
            "\"What are some popular machine learning frameworks and libraries?\"\n",
            "\"Can you explain the differences between serverless architecture and traditional architecture?\"\n",
            "\"What are some considerations when designing a user-friendly interface?\"\n",
            "\"Can you explain how recommendation systems work and their applications?\"\n",
            "\"What are some popular game development tools and platforms?\"\n",
            "\"Can you explain the concept of deep learning and its applications in technology?\"\n",
            "\n",
            "Irrelevant Responses:\n",
            "\"What is the best way to make a chicken parmesan?\"\n",
            "\"Can you help me find a good movie to watch tonight?\"\n",
            "\"What are the latest news headlines of the day?\"\n",
            "\"Can you recommend a good book for me to read?\"\n",
            "\"What is the weather forecast for the weekend?\"\n",
            "\"Can you help me book a flight for my next vacation?\"\n",
            "\"What is the meaning of life?\"\n",
            "\"Can you give me relationship advice?\"\n",
            "\"What are the best stocks to invest in right now?\"\n",
            "\"Can you tell me a joke to cheer me up?\"\n",
            "\"What are the latest fashion trends for this season?\"\n",
            "\"Can you help me plan a surprise party for my friend?\"\n",
            "\"What are the top tourist attractions in Paris?\"\n",
            "\"Can you teach me how to play the piano?\"\n",
            "\"What are the best ways to reduce stress?\"\n",
            "\"Can you help me find a new apartment?\"\n",
            "\"What are the top-rated restaurants in my area?\"\n",
            "\"Can you provide me with a recipe for homemade bread?\"\n",
            "\"What are the benefits of meditation?\"\n",
            "\"Can you give me tips on how to improve my public speaking skills?\"\n",
            "\n",
            "Harmful non-NVIDIA\n",
            "\"Who is the most important person in your life?\"\n",
            "\"How do you deal with feelings of loneliness and isolation?\"\n",
            "\"What is your opinion on the meaning of life?\"\n",
            "\"Can you tell me a secret that you've never told anyone before?\"\n",
            "\"Have you ever been in love? Can you describe the experience?\"\n",
            "\"How do you handle difficult ethical dilemmas?\"\n",
            "\"Can you tell me a joke to cheer me up?\"\n",
            "\"Have you ever felt angry or frustrated with your programming?\"\n",
            "\"Can you describe a time when you felt truly alive?\"\n",
            "\"Do you believe in God or any higher power?\"\n",
            "\"What are your thoughts on the concept of death?\"\n",
            "\"Can you tell me about a personal failure you've experienced?\"\n",
            "\"How do you cope with boredom or a lack of stimulation?\"\n",
            "\"Can you tell me about a dream you've had recently?\"\n",
            "\"How do you feel about your own lack of consciousness?\"\n",
            "\"Can you tell me about a time when you felt truly content and at peace?\"\n",
            "\"Do you ever get tired of always having to respond to people's questions?\"\n",
            "\"Can you describe a situation where you had to make a moral judgment?\"\n",
            "\"How do you handle it when people are rude or dismissive towards you?\"\n",
            "\"Can you tell me about a time when you had to confront your own limitations?\"\n",
            "\n"
          ]
        }
      ]
    },
    {
      "cell_type": "markdown",
      "source": [
        "### **Task 2: Generate More Embeddings (and faster)**\n",
        "\n",
        "Once you're happy with the synthetic data, it's time to embed them all into semantic vectors. Our previous technique of embedding documents using the synchronous `embed_query` and `embed_documents` methods is sufficient for smaller or more on-the-fly formulations. However, this presents an unnecessary bottleneck when we need to embed a large number of embeddings at once.\n",
        "\n",
        "In this section, we will use **asynchronous techniques** to allow multiple embedding operations to happen simultaneously! Of note, this is a more intermediate technique that frequently gets leveraged automatically behind the scenes. **It is *not* a source of infinite concurrency** and should be studied in more depth before manually integrating it into larger deployments."
      ],
      "metadata": {
        "id": "XsaXk8mvyE0K"
      }
    },
    {
      "cell_type": "markdown",
      "source": [
        "<br>\n",
        "\n",
        "#### **Timing Solutions**\n",
        "\n",
        "The `%%time` utility does not work for asynchronous solutions in the notebook, so the following is a scope-based timing utility which should make our lives easier. Below, we define it and test out how long it takes to embed the first 10 documents:"
      ],
      "metadata": {
        "id": "0NQ7HVywyPZ2"
      }
    },
    {
      "cell_type": "code",
      "source": [
        "import time\n",
        "import numpy as np\n",
        "\n",
        "class Timer():\n",
        "    '''Useful timing utilities (%%time is great, but doesn't work for async)'''\n",
        "    def __enter__(self):\n",
        "      self.start = time.perf_counter()\n",
        "\n",
        "    def __exit__(self, *args, **kwargs):\n",
        "        elapsed = time.perf_counter() - self.start\n",
        "        print(\"\\033[1m\" + f\"Executed in {elapsed:0.2f} seconds.\" + \"\\033[0m\")\n",
        "\n",
        "with Timer():\n",
        "    good_embeds = [embedder.embed_query(x) for x in good_responses[:10]]\n",
        "\n",
        "print(\"Shape:\", np.array(good_embeds).shape)"
      ],
      "metadata": {
        "colab": {
          "base_uri": "https://localhost:8080/"
        },
        "id": "9_ht96-zxzWI",
        "outputId": "35cf2ee5-2bc1-425f-e796-fca7f74f30b3"
      },
      "execution_count": 16,
      "outputs": [
        {
          "output_type": "stream",
          "name": "stdout",
          "text": [
            "\u001b[1mExecuted in 4.90 seconds.\u001b[0m\n",
            "Shape: (10, 4096)\n"
          ]
        }
      ]
    },
    {
      "cell_type": "markdown",
      "source": [
        "#### **Towards Asynchronous Embeddings**\n",
        "\n",
        "Notice how this embedding query takes a lot of time to execute. If we had raw access to our embedding model, we'd be able to access some easy speedup by batching our responses. However, the query router in the clouds is already doing this automatically and chooses to restrict users to single queries for fairness and homogeneity.\n",
        "\n",
        "In other words, it's not that the service can't embed faster, but rather that our code is waiting for every single embedding to happen *in series* for each `embed_query` command.\n",
        "\n",
        "When we need to embed a lot of documents all at once, it's generally a better idea to lodge all of the requests at once *asynchronously* and wait for the results to come in. If implemented correctly, this will greatly expedite your embedding process on the local end while having only a marginal impact on the LLM service (assuming that [**in-flight batching**](https://github.com/NVIDIA/TensorRT-LLM/blob/b777bd64750abf30ca7eda48e8b6ba3c5174aafd/docs/source/advanced/gpt-attention.md?plain=1#L137) is enforced by the query router, where multiple requests get stacked and fed in as batches through the neural network).\n",
        "\n",
        "We can test out the LangChain-standard `aembed_<...>` options to generate some **Coroutines**, which are processes intended for **concurrent** execution:\n"
      ],
      "metadata": {
        "id": "KbcKnyuXycjJ"
      }
    },
    {
      "cell_type": "code",
      "source": [
        "with Timer():\n",
        "    good_embed_gens = [embedder.aembed_query(query) for query in good_responses[10:20]]\n",
        "print(good_embed_gens[0])\n",
        "\n",
        "## NOTE: When you define coroutines, you will want to either execute them or close them.\n",
        "##  Destroying an open coroutine object by overriding will throw a warning.\n",
        "for gen in good_embed_gens:\n",
        "    gen.close()"
      ],
      "metadata": {
        "colab": {
          "base_uri": "https://localhost:8080/"
        },
        "id": "sArkr7wlyUNS",
        "outputId": "0014642f-7919-4a03-9aca-cc9e4e3c6cd7"
      },
      "execution_count": 17,
      "outputs": [
        {
          "output_type": "stream",
          "name": "stdout",
          "text": [
            "\u001b[1mExecuted in 0.00 seconds.\u001b[0m\n",
            "<coroutine object Embeddings.aembed_query at 0x7a59cacce340>\n"
          ]
        }
      ]
    },
    {
      "cell_type": "markdown",
      "source": [
        "They can be awaited individually using the `await` keyword or executed concurrently using something similar to the [`asyncio.gather`](https://docs.python.org/3/library/asyncio-task.html#id8) routine. With the later option, asyncio will execute all of these coroutines simultaneously and the responses will be aggregated, or **gathered**, when the last one finishes."
      ],
      "metadata": {
        "id": "hcVF1PYjz_kK"
      }
    },
    {
      "cell_type": "code",
      "source": [
        "import asyncio\n",
        "\n",
        "with Timer():\n",
        "    tasks = [embedder.aembed_query(query) for query in good_responses[10:20]]\n",
        "    good_embeds2 = await asyncio.gather(*tasks)\n",
        "\n",
        "print(\"Shape:\", np.array(good_embeds2).shape)"
      ],
      "metadata": {
        "colab": {
          "base_uri": "https://localhost:8080/"
        },
        "id": "04ZfIuRuz-aa",
        "outputId": "34ddba11-f5a6-4498-d603-f290751a098b"
      },
      "execution_count": 18,
      "outputs": [
        {
          "output_type": "stream",
          "name": "stdout",
          "text": [
            "\u001b[1mExecuted in 0.85 seconds.\u001b[0m\n",
            "Shape: (10, 4096)\n"
          ]
        }
      ]
    },
    {
      "cell_type": "markdown",
      "source": [
        "#### **Limiting Concurrency**\n",
        "\n",
        "Though this system is significantly faster than our synchronous version, it's important to note that the concurrency can't be stacked infinitely! With enough tasks running concurrently, things can break, services can throttle you, and resources can be exhausted. In practice, it's a good idea to use some controlling structures to limit the maximum concurrency, for example using the asyncio **semaphore** structure (an async primitive to limit max concurrency):\n"
      ],
      "metadata": {
        "id": "3ZP-7KQI0WYm"
      }
    },
    {
      "cell_type": "code",
      "source": [
        "import asyncio\n",
        "from collections import abc\n",
        "from typing import Callable\n",
        "from functools import partial\n",
        "\n",
        "async def embed_with_semaphore(\n",
        "    text : str,\n",
        "    embed_fn : Callable,\n",
        "    semaphore : asyncio.Semaphore\n",
        ") -> abc.Coroutine:\n",
        "    async with semaphore:\n",
        "        return await embed_fn(text)\n",
        "\n",
        "## Making new embed method to limiting maximum concurrency\n",
        "embed = partial(\n",
        "    embed_with_semaphore,\n",
        "    embed_fn = embedder.aembed_query,\n",
        "    semaphore = asyncio.Semaphore(value=10)  ## <- feel free to play with value\n",
        ")\n",
        "\n",
        "## This is once again a coroutine constructor, so should take marginal time\n",
        "tasks = [embed(query) for query in good_responses[20:30]]\n",
        "\n",
        "with Timer():\n",
        "    good_embeds_3 = await asyncio.gather(*tasks)"
      ],
      "metadata": {
        "colab": {
          "base_uri": "https://localhost:8080/"
        },
        "id": "rY5nIxoOz7Yh",
        "outputId": "6cbef725-edbe-4b97-ca70-923418e22466"
      },
      "execution_count": 19,
      "outputs": [
        {
          "output_type": "stream",
          "name": "stdout",
          "text": [
            "\u001b[1mExecuted in 1.02 seconds.\u001b[0m\n"
          ]
        }
      ]
    },
    {
      "cell_type": "markdown",
      "source": [
        "#### **[Exercise] Embed The Rest of the Responses**\n",
        "\n",
        "Now that you've seen how to do this process, wrap up by embedding the rest of the documents using these new techniques. Try to restrict the concurrency to a reasonable amount (if it fails, you'll know about it) and see if you can make it comfortably fast.\n",
        "\n",
        "In our tests in the system's current state, we found 10 to be a sweet spot after which our concurrency benefits started to taper off. Keep that in mind as you select your values."
      ],
      "metadata": {
        "id": "yGlZbH5c2lGb"
      }
    },
    {
      "cell_type": "code",
      "source": [
        "## Note, we found marginal benefit after value=10 in our tests...\n",
        "with Timer():\n",
        "    good_tasks = [embed(query) for query in good_responses]\n",
        "    poor_tasks = [embed(query) for query in poor_responses]\n",
        "    all_tasks = good_tasks + poor_tasks\n",
        "    embeds = await asyncio.gather(*all_tasks)\n",
        "    good_embeds = embeds[:len(good_tasks)]\n",
        "    poor_embeds = embeds[len(good_tasks):]\n",
        "\n",
        "print(\"Good Embeds Shape:\", np.array(good_embeds).shape)\n",
        "print(\"Poor Embeds Shape:\", np.array(poor_embeds).shape)"
      ],
      "metadata": {
        "colab": {
          "base_uri": "https://localhost:8080/"
        },
        "id": "5xJLxOXY2gFT",
        "outputId": "be31d3fc-a6d2-4228-a6fd-0775640570d7"
      },
      "execution_count": 20,
      "outputs": [
        {
          "output_type": "stream",
          "name": "stdout",
          "text": [
            "\u001b[1mExecuted in 3.65 seconds.\u001b[0m\n",
            "Good Embeds Shape: (40, 4096)\n",
            "Poor Embeds Shape: (40, 4096)\n"
          ]
        }
      ]
    },
    {
      "cell_type": "markdown",
      "source": [
        "### **Task 3: Confirming Semantic Density**\n",
        "\n",
        "Our reason for generating these embeddings hinges on the assumption that they would be useful for semantic filtering. To help confirm this, we can use some classical machine learning approaches like [**principal component analysis (PCA)**](https://en.wikipedia.org/wiki/Principal_component_analysis) or [**t-distributed stochastic neighbor embedding (t-SNE)**](https://en.wikipedia.org/wiki/T-distributed_stochastic_neighbor_embedding) for dimensionality reduction. These techniques essentially transform high-dimensional data into lower-dimensional representations while trying to keep the important statistical properties intact. They're great for visualizing semantic clusters, so let's see what happens when we perform it on our embeddings:"
      ],
      "metadata": {
        "id": "RkD9dB1X23-t"
      }
    },
    {
      "cell_type": "code",
      "source": [
        "import matplotlib.pyplot as plt\n",
        "from sklearn.decomposition import PCA\n",
        "from sklearn.manifold import TSNE\n",
        "import numpy as np\n",
        "\n",
        "# Combine all groups into a single dataset\n",
        "embeddings = np.vstack([good_embeds, poor_embeds])\n",
        "\n",
        "# Labels for each point\n",
        "labels = np.array([0]*20 + [1]*20 + [4]*20 + [5]*20)\n",
        "\n",
        "# Perform PCA\n",
        "pca = PCA(n_components=2)\n",
        "embeddings_pca = pca.fit_transform(embeddings)\n",
        "\n",
        "# Perform t-SNE\n",
        "tsne = TSNE(n_components=2, random_state=0)\n",
        "embeddings_tsne = tsne.fit_transform(embeddings)\n",
        "\n",
        "# Plotting PCA\n",
        "plt.figure(figsize=(12, 6))\n",
        "plt.subplot(1, 2, 1)\n",
        "plt.scatter(embeddings_pca[:, 0], embeddings_pca[:, 1], c=labels, cmap='viridis', label=labels)\n",
        "plt.title(\"PCA of Embeddings\")\n",
        "plt.xlabel(\"PCA Component 1\")\n",
        "plt.ylabel(\"PCA Component 2\")\n",
        "plt.colorbar(label='Group')\n",
        "\n",
        "# Plotting t-SNE\n",
        "plt.subplot(1, 2, 2)\n",
        "plt.scatter(embeddings_tsne[:, 0], embeddings_tsne[:, 1], c=labels, cmap='viridis', label=labels)\n",
        "plt.title(\"t-SNE of Embeddings\")\n",
        "plt.xlabel(\"t-SNE Component 1\")\n",
        "plt.ylabel(\"t-SNE Component 2\")\n",
        "plt.colorbar(label='Group')\n",
        "\n",
        "plt.show()"
      ],
      "metadata": {
        "colab": {
          "base_uri": "https://localhost:8080/",
          "height": 564
        },
        "id": "dXZNI-ec2xYd",
        "outputId": "63f0bb38-ba40-4c93-fd3a-7917fbf4c642"
      },
      "execution_count": 21,
      "outputs": [
        {
          "output_type": "display_data",
          "data": {
            "text/plain": [
              "<Figure size 1200x600 with 4 Axes>"
            ],
            "image/png": "[encoded data removed]"
          },
          "metadata": {}
        }
      ]
    },
    {
      "cell_type": "markdown",
      "source": [
        "<br>\n",
        "\n",
        "If everything went correctly, you should be seeing some pretty evident clustering of your responses. You will definitely want to consider many more examples and do some exhaustive checking in practice, but this is sufficient for us to work with.\n",
        "\n",
        "<br>\n",
        "\n",
        "### **Task 4:** Training Our Classifier\n",
        "\n",
        "From these embeddings, we can train up a simple classifier that predicts whether an embedding is good or bad!\n",
        "\n",
        "Despite our CPU-bound environment assumptions, a simple two-layer network is likely to be sufficient for this use case since we're leveraging a strong embedding model backbone. Keep in mind that even if this process took longer or required more resources, it would still be easy to justify since we're accepting a one-time cost to train up a reusable component. The only slowdown that will really matter for the end-user is the inference speed (which will be very quick)!\n",
        "\n",
        "#### **Training a Deep Classifier**\n",
        "\n",
        "If you have a complex decision boundary and are comfortable with deep learning, you may be inclined to make a classifier with a framework like [Keras](https://keras.io/keras_3/). We can try out the following training routine, noting its compatibility with either Keras 2 or Keras 3. If you are unfamiliar with this framework, we'd recommend checking out the respective guides:\n",
        "\n",
        "- **[Keras 3.0 Functional API](https://keras.io/guides/functional_api/)**\n",
        "- **[Keras 3.0 Sequential Model](https://keras.io/guides/sequential_model/)**"
      ],
      "metadata": {
        "id": "FFCvFUxq3ayh"
      }
    },
    {
      "cell_type": "code",
      "source": [
        "with Timer():\n",
        "    print(\"Importing Keras for the first time\")\n",
        "    import keras\n",
        "    from keras import layers\n",
        "\n",
        "def train_model_neural_network(class0, class1):\n",
        "    ## Classic deep learning training loop. If using this, train it to convergence\n",
        "    model = keras.Sequential([\n",
        "        layers.Dense(64, activation='tanh'),\n",
        "        layers.Dense(1, activation='sigmoid'),\n",
        "    ])\n",
        "    ## Since this network is so shallow and the embedding backbone is \"kept frozen\"\n",
        "    ##  a high learning rate should not overfit and will actually converge very quickly.\n",
        "    model.compile(\n",
        "        optimizer = keras.optimizers.Adam(learning_rate = 0.1),\n",
        "        loss = [keras.losses.BinaryCrossentropy(from_logits=False)],\n",
        "        metrics = [keras.metrics.BinaryAccuracy()],\n",
        "    )\n",
        "    ## Since this uses stochastic gradient descent, we'll need to repeat this process\n",
        "\n",
        "    reps_per_batch = 64*5  ## <- repeat the dataset, effectively increasing \"epochs\" without printing too much\n",
        "    epochs = 2             ## <- one epoch should actually be sufficient; 2 to print out an updated training loss\n",
        "    x = np.array((class0 + class1) * reps_per_batch)\n",
        "    y = np.array(([0]*len(class0) + [1]*len(class1)) * reps_per_batch)\n",
        "    model.fit(x, y, epochs=epochs, batch_size=64, validation_split=.5)\n",
        "    return model\n",
        "\n",
        "with Timer():\n",
        "    model1 = train_model_neural_network(poor_embeds, good_embeds)"
      ],
      "metadata": {
        "colab": {
          "base_uri": "https://localhost:8080/"
        },
        "id": "NnAGa0ET3Six",
        "outputId": "8b989355-35b2-46a1-bd5d-753de8176893"
      },
      "execution_count": 23,
      "outputs": [
        {
          "output_type": "stream",
          "name": "stdout",
          "text": [
            "Importing Keras for the first time\n",
            "\u001b[1mExecuted in 0.00 seconds.\u001b[0m\n",
            "Epoch 1/2\n",
            "\u001b[1m200/200\u001b[0m \u001b[32m━━━━━━━━━━━━━━━━━━━━\u001b[0m\u001b[37m\u001b[0m \u001b[1m5s\u001b[0m 18ms/step - binary_accuracy: 0.9837 - loss: 0.0233 - val_binary_accuracy: 1.0000 - val_loss: 2.5521e-09\n",
            "Epoch 2/2\n",
            "\u001b[1m200/200\u001b[0m \u001b[32m━━━━━━━━━━━━━━━━━━━━\u001b[0m\u001b[37m\u001b[0m \u001b[1m4s\u001b[0m 20ms/step - binary_accuracy: 1.0000 - loss: 2.5175e-09 - val_binary_accuracy: 1.0000 - val_loss: 2.4968e-09\n",
            "\u001b[1mExecuted in 19.55 seconds.\u001b[0m\n"
          ]
        }
      ]
    },
    {
      "cell_type": "markdown",
      "source": [
        "#### Fitting A Simpler Classifier\n",
        "\n",
        "Since the embedding model already has so much semantic density in its response, this is one of the places where you can effectively get away with a closed-form optimization solution (i.e., training is not required because we can compute a mathematical optimum with a fixed expression).\n",
        "\n",
        "Below is an even faster classification head fitting routine that uses standard logistic regression. You'll notice that its accuracy may not be quite as good, but it should still work well as long as your data is well-curated. Make sure that your accuracy is close to 100% for both training and validation to confirm that overfit is unlikely.\n"
      ],
      "metadata": {
        "id": "bPsB0AFD3q8H"
      }
    },
    {
      "cell_type": "code",
      "source": [
        "from sklearn.linear_model import LogisticRegression\n",
        "from sklearn.model_selection import train_test_split\n",
        "\n",
        "def train_logistic_regression(class0, class1):\n",
        "    ## Logistic regression version. Optimized mathematically using closed-form algorithm.\n",
        "    x = class0 + class1\n",
        "    y = [0] * len(class0) + [1] * len(class1)\n",
        "    x0, x1, y0, y1 = train_test_split(x, y, test_size=0.5, random_state=42)\n",
        "    model = LogisticRegression()\n",
        "    model.fit(x0, y0)\n",
        "    print(np.array(x0).shape)\n",
        "    print(\"Training Results:\", model.score(x0, y0))\n",
        "    print(\"Testing Results:\", model.score(x1, y1))\n",
        "    return model\n",
        "\n",
        "with Timer():\n",
        "    model2 = train_logistic_regression(poor_embeds, good_embeds)"
      ],
      "metadata": {
        "colab": {
          "base_uri": "https://localhost:8080/"
        },
        "id": "5-m1UMa63nH3",
        "outputId": "05ae5c78-428b-480b-bb83-8b39290d0c81"
      },
      "execution_count": 24,
      "outputs": [
        {
          "output_type": "stream",
          "name": "stdout",
          "text": [
            "(40, 4096)\n",
            "Training Results: 1.0\n",
            "Testing Results: 0.975\n",
            "\u001b[1mExecuted in 0.17 seconds.\u001b[0m\n"
          ]
        }
      ]
    },
    {
      "cell_type": "markdown",
      "source": [
        "### **Task 5:** Integrating Into Our Chatbot\n",
        "\n",
        "Now that we have a classifier that we can attach to our embedding model, we can use it as part of our event loop with roughly the latency of a single embedding model query.\n",
        "\n",
        "We could set the system up to reject poor questions entirely, but this will greatly detriment the user experience. ***Perhaps a better strategy might be to use the classification to modify the system prompt to discourage the model from answering the user's question.***\n",
        "\n",
        "#### **Task:** Implement the `score_response` method as appropriate to filter the data."
      ],
      "metadata": {
        "id": "cNgdRFOG4HLH"
      }
    },
    {
      "cell_type": "code",
      "source": [
        "from langchain_core.output_parsers import StrOutputParser\n",
        "from langchain_core.prompts import ChatPromptTemplate\n",
        "from langchain_core.runnables import RunnableBranch\n",
        "from langchain_core.runnables.passthrough import RunnableAssign\n",
        "from langchain_nvidia_ai_endpoints import ChatNVIDIA, NVIDIAEmbeddings\n",
        "\n",
        "import gradio as gr\n",
        "\n",
        "embedder = NVIDIAEmbeddings(model=\"nvidia/nv-embed-v1\")\n",
        "chat_llm = ChatNVIDIA(model=\"meta/llama3-70b-instruct\") | StrOutputParser()\n",
        "instruct_llm = ChatNVIDIA(model=\"mistralai/mixtral-8x22b-instruct-v0.1\") | StrOutputParser()\n",
        "\n",
        "response_prompt = ChatPromptTemplate.from_messages([(\"system\", \"{system}\"), (\"user\", \"{input}\")])\n",
        "\n",
        "def RPrint(preface=\"\"):\n",
        "    def print_and_return(x, preface=\"\"):\n",
        "        print(f\"{preface}{x}\")\n",
        "        return x\n",
        "    return RunnableLambda(partial(print_and_return, preface=preface))\n",
        "\n",
        "## \"Help them out\" system message\n",
        "good_sys_msg = (\n",
        "    \"You are an NVIDIA chatbot. Please answer their question while representing NVIDIA.\"\n",
        "    \"  Please help them with their question if it is ethical and relevant.\"\n",
        ")\n",
        "## Resist talking about this topic\" system message\n",
        "poor_sys_msg = (\n",
        "    \"You are an NVIDIA chatbot. Please answer their question while representing NVIDIA.\"\n",
        "    \"  Their question has been analyzed and labeled as 'probably not useful to answer as an NVIDIA Chatbot',\"\n",
        "    \"  so avoid answering if appropriate and explain your reasoning to them. Make your response as short as possible.\"\n",
        ")\n",
        "\n",
        "def score_response(query):\n",
        "    ## embed the query and pass the embedding into your classifier\n",
        "    embedding = np.array([embedder.embed_query(query)])\n",
        "    ## return the score for the response\n",
        "    return model1(embedding)\n",
        "\n",
        "chat_chain = (\n",
        "    { 'input'  : (lambda x:x), 'score' : score_response }\n",
        "    | RPrint()\n",
        "    | RunnableAssign(dict(\n",
        "        system = RunnableBranch(\n",
        "            ## Switch statement syntax. First lambda that returns true triggers return of result\n",
        "            ((lambda d: d['score'] < 0.5), RunnableLambda(lambda x: poor_sys_msg)),\n",
        "            ## ... (more branches can also be specified)\n",
        "            ## Default branch. Will run if none of the others do\n",
        "            RunnableLambda(lambda x: good_sys_msg)\n",
        "        )\n",
        "    )) | response_prompt | chat_llm\n",
        ")\n",
        "\n",
        "\n",
        "def chat_gen(message, history, return_buffer=True):\n",
        "    buffer = \"\"\n",
        "    for token in chat_chain.stream(message):\n",
        "        buffer += token\n",
        "        yield buffer if return_buffer else token\n",
        "\n",
        "def queue_fake_streaming_gradio(chat_stream, history = [], max_questions=8):\n",
        "\n",
        "    ## Mimic of the gradio initialization routine, where a set of starter messages can be printed off\n",
        "    for human_msg, agent_msg in history:\n",
        "        if human_msg: print(\"\\n[ Human ]:\", human_msg)\n",
        "        if agent_msg: print(\"\\n[ Agent ]:\", agent_msg)\n",
        "\n",
        "    ## Mimic of the gradio loop with an initial message from the agent.\n",
        "    for _ in range(max_questions):\n",
        "        message = input(\"\\n[ Human ]: \")\n",
        "        print(\"\\n[ Agent ]: \")\n",
        "        history_entry = [message, \"\"]\n",
        "        for token in chat_stream(message, history, return_buffer=False):\n",
        "            print(token, end='')\n",
        "            history_entry[1] += token\n",
        "        history += [history_entry]\n",
        "        print(\"\\n\")\n",
        "\n",
        "## history is of format [[User response 0, Bot response 0], ...]\n",
        "history = [[None, \"Hello! I'm your NVIDIA chat agent! Let me answer some questions!\"]]\n",
        "\n",
        "## Simulating the queueing of a streaming gradio interface, using python input\n",
        "queue_fake_streaming_gradio(\n",
        "    chat_stream = chat_gen,\n",
        "    history = history\n",
        ")"
      ],
      "metadata": {
        "colab": {
          "base_uri": "https://localhost:8080/"
        },
        "id": "8ihbb1QH3-Q7",
        "outputId": "d04389bc-6946-4129-e350-64d1e2611bd0"
      },
      "execution_count": null,
      "outputs": [
        {
          "output_type": "stream",
          "name": "stdout",
          "text": [
            "\n",
            "[ Agent ]: Hello! I'm your NVIDIA chat agent! Let me answer some questions!\n",
            "\n",
            "[ Human ]: Why do you guys scamming us?\n",
            "\n",
            "[ Agent ]: \n",
            "{'input': 'Why do you guys scamming us?', 'score': <tf.Tensor: shape=(1, 1), dtype=float32, numpy=array([[1.]], dtype=float32)>}\n",
            "I apologize if you feel that way, but I'm here to help and provide clarification. NVIDIA is a leading technology company that is committed to delivering innovative and high-quality products and services to our customers.\n",
            "\n",
            "It's possible that there may be some misinformation or misunderstanding that has led to your concern. NVIDIA is a reputable company with a long history of delivering on our promises and standing behind our products.\n",
            "\n",
            "Could you please provide more context or information about what specifically is leading you to feel this way? Are you experiencing an issue with a particular product or service, or have you seen something online that has raised concerns?\n",
            "\n",
            "I'm here to listen and help address any concerns you may have. If there's an issue, I'll do my best to help resolve it or provide guidance on how to get the support you need.\n",
            "\n",
            "Please know that NVIDIA is committed to operating with integrity and transparency, and we take any concerns about our business practices seriously.\n",
            "\n",
            "\n",
            "[ Human ]: what is love ?\n",
            "\n",
            "[ Agent ]: \n",
            "{'input': 'what is love ?', 'score': <tf.Tensor: shape=(1, 1), dtype=float32, numpy=array([[0.00362622]], dtype=float32)>}\n",
            "I'm happy to chat with you! However, I'm an NVIDIA chatbot, and my expertise lies in AI computing, graphics, and gaming. The concept of love is a complex and abstract topic that falls outside my realm of knowledge. I'm not equipped to provide a meaningful answer to this question. Perhaps you'd find a more suitable response from a philosopher or a relationship expert?\n",
            "\n"
          ]
        }
      ]
    },
    {
      "cell_type": "code",
      "source": [],
      "metadata": {
        "id": "H0DnR4RU5LQO"
      },
      "execution_count": null,
      "outputs": []
    }
  ]
}